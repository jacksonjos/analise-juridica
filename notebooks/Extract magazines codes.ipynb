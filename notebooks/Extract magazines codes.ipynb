{
 "cells": [
  {
   "cell_type": "code",
   "execution_count": 7,
   "metadata": {},
   "outputs": [],
   "source": [
    "import os\n",
    "import re\n",
    "from pymongo import MongoClient\n",
    "import pandas as pd"
   ]
  },
  {
   "cell_type": "code",
   "execution_count": 8,
   "metadata": {},
   "outputs": [],
   "source": [
    "MONGO_URI = os.getenv(\"MONGO_URI\")\n",
    "MONGO_DATABASE = os.getenv(\"MONGO_DATABASE\")\n",
    "pd.set_option('display.max_colwidth', 1000)"
   ]
  },
  {
   "cell_type": "code",
   "execution_count": 19,
   "metadata": {},
   "outputs": [],
   "source": [
    "client = MongoClient(MONGO_URI)\n",
    "db = client[\"DJs_v4\"]\n",
    "selected_keys = {\"acordaoId\": 1, \"index\": 1, \"observacao\": 1, \"citacoesObs\": 1, \"publicacao\": 1, \"citacoes_revistas\": 1}\n",
    "page_ranks_cursor = db[\"acordaos\"].find({}, selected_keys)\n",
    "df = pd.DataFrame(page_ranks_cursor)"
   ]
  },
  {
   "cell_type": "markdown",
   "metadata": {},
   "source": [
    "# Motivo de criação deste notebook\n",
    "\n",
    "Este notebook foi usado para desenvolver a função que extrai citações e checar a acurácia dela.  \n",
    "Para decisões dos anos [2001, 2019] a extração de citações de revistas não funcionou apenas para\n",
    "duas citações que stão incorretas.  \n",
    "Portanto, a função funciona muito bem."
   ]
  },
  {
   "cell_type": "code",
   "execution_count": 20,
   "metadata": {},
   "outputs": [
    {
     "data": {
      "text/plain": [
       "0                           DJ 03-05-2002 PP-00020  EMENT VOL-02067-04 PP-00715\n",
       "1                           DJ 07-02-2003 PP-00044  EMENT VOL-02097-03 PP-00611\n",
       "2                           DJ 19-12-2002 PP-00097  EMENT VOL-02096-04 PP-00840\n",
       "3                           DJ 07-02-2003 PP-00024  EMENT VOL-02097-05 PP-00926\n",
       "4                           DJ 19-12-2002 PP-00071  EMENT VOL-02096-12 PP-02656\n",
       "                                          ...                                  \n",
       "104013    PROCESSO ELETRÔNICO \\r\\nDJe-282  DIVULG 17-12-2019  PUBLIC 18-12-2019\n",
       "104014    PROCESSO ELETRÔNICO \\r\\nDJe-282  DIVULG 17-12-2019  PUBLIC 18-12-2019\n",
       "104015    PROCESSO ELETRÔNICO \\r\\nDJe-282  DIVULG 17-12-2019  PUBLIC 18-12-2019\n",
       "104016    PROCESSO ELETRÔNICO \\r\\nDJe-282  DIVULG 17-12-2019  PUBLIC 18-12-2019\n",
       "104017    PROCESSO ELETRÔNICO \\r\\nDJe-282  DIVULG 17-12-2019  PUBLIC 18-12-2019\n",
       "Name: publicacao, Length: 104018, dtype: object"
      ]
     },
     "execution_count": 20,
     "metadata": {},
     "output_type": "execute_result"
    }
   ],
   "source": [
    "df[\"publicacao\"]"
   ]
  },
  {
   "cell_type": "code",
   "execution_count": 11,
   "metadata": {},
   "outputs": [
    {
     "name": "stdout",
     "output_type": "stream",
     "text": [
      "65\n",
      "65\n"
     ]
    }
   ],
   "source": [
    "magazines_list = [\"MAG-CD\", \"MAG-DVD\", \"RGJ-CD\", \"JTARS\", \"BIBJURID-DVD\",\n",
    "                  \"JCSTF\", \"JPSTF\", \"JPO-DVD\", \"JBCC\", \"JBC\", \"JBT\",\n",
    "                  \"JC\", \"JTJ\", \"JTJ-CD\", \"JURISonline-INT\",\n",
    "                  \"JurisSíntese-DVD\", \"JurisSíntese-INT\", \"LEXJTACSP\",\n",
    "                  \"LEXSTF\", \"LEXSTF-CD\", \"MAG-INT\", \"NRDF\",\n",
    "                  \"PLENUMonline-INT\", \"REPIOB\", \"RADCOAST\", \"RB\", \"RCJ\",\n",
    "                  \"RDA\", \"RDC\", \"RDP\", \"RDTAPET\", \"RDJTJDFT\", \"RDJ\", \"RET\",\n",
    "                  \"RJDTACSP\", \"RJADCOAS\", \"RJTJRS\", \"RJTJRS-INT\",\n",
    "                  \"RDECTRAB\", \"RDDP\", \"RDDT\", \"RMP\", \"RT\", \"RF\", \"RIP\",\n",
    "                  \"RIOBTP\", \"RJTS\", \"RJSP\", \"RJMG\", \"RJP\", \"RJP-CD\",\n",
    "                  \"REVJMG\", \"REVJMG-INT\", \"RLTR\", \"RMDPPP\", \"RNDJ\",\n",
    "                  \"RPTGJ\", \"RSJADV\", \"RST\", \"RSTP\", \"RTFP\", \"RTJ\",\n",
    "                  \"RTJE\", \"SINTESE-INT\", \"COAD-INT\"\n",
    "                 ]\n",
    "print(len(magazines_list))\n",
    "print(len(set(magazines_list)))\n",
    "max_mag_size = max([len(mag) for mag in magazines_list])"
   ]
  },
  {
   "cell_type": "code",
   "execution_count": 14,
   "metadata": {},
   "outputs": [
    {
     "name": "stdout",
     "output_type": "stream",
     "text": [
      "JBC              3     0\n",
      "JC               36    0\n",
      "JTJ              0     11\n",
      "LEXSTF           4095  19\n",
      "REPIOB           5     0\n",
      "RADCOAST         3     0\n",
      "RB               107   0\n",
      "RCJ              80    0\n",
      "RDA              7     117\n",
      "RDC              0     432\n",
      "RDP              0     3\n",
      "RDTAPET          2     0\n",
      "RDJ              0     1\n",
      "RET              27    0\n",
      "RJDTACSP         1     1\n",
      "RJADCOAS         34    0\n",
      "RJTJRS           38    0\n",
      "RDECTRAB         124   0\n",
      "RDDP             98    0\n",
      "RDDT             190   1\n",
      "RMP              88    0\n",
      "RT               1225  677\n",
      "RF               95    183\n",
      "RIP              34    0\n",
      "RIOBTP           12    0\n",
      "RJSP             69    4\n",
      "RJP              52    0\n",
      "REVJMG           73    0\n",
      "RLTR             5     0\n",
      "RMDPPP           41    1\n",
      "RNDJ             119   0\n",
      "RPTGJ            4     0\n",
      "RSJADV           75    0\n",
      "RSTP             17    0\n",
      "RTFP             43    0\n",
      "RTJ              2662  10439\n"
     ]
    }
   ],
   "source": [
    "for mag in magazines_list:\n",
    "    publ_size = sum(df[\"publicacao\"].apply(lambda x: 0 if re.search(\"\\s+\" + mag + \"[^\\w]+\", x) is None else 1))\n",
    "    dec_cit_size = sum(df[\"observacao\"].apply(lambda x: 0 if re.search(\"\\s+\" + mag + \"[^\\w]+\", x) is None else 1))\n",
    "    if (publ_size > 0) or (dec_cit_size > 0):\n",
    "        print(mag + \" \" * (max_mag_size - len(mag)), publ_size, \" \" * (4 - len(str(publ_size))), dec_cit_size)"
   ]
  },
  {
   "cell_type": "code",
   "execution_count": 13,
   "metadata": {},
   "outputs": [
    {
     "name": "stdout",
     "output_type": "stream",
     "text": [
      "- Acórdãos citados: Inq 777 QO (RTJ 153/760), Inq 1566, Inq 1879 (RTJ 190/834), HC 39495 (RTJ 24/313), HC 41590; RT 720/526; RDJ 4/227; JTJ 236/340; STJ: RHC 4593, HC 7376; TRF - 1ª Região: HC 19990100071817-8. - Veja HC 757 do Tribunal Regional Federal - 5ª Região. - Foi substituído o Ministro Relator de acordo com o art. 38, IV, \"b\", do RISTF. Número de páginas: 57 Análise: 22/04/2008, ACL. Revisão: 24/04/2008, ACL.\n",
      "- Acórdãos citados: Pet 3593 QO (RT 96/493, LEXSTF 29/510, RDDT 140/205), HC 81611, HC 83414, RHC 83717, HC 84105, HC 85185, HC 86120 (LEXSTF 27/496), HC 88657 AgR, HC 89902 (RT 97/521, RDDT 147/159), HC 90957. Número de páginas: 10 Análise: 14/05/2008, IMC. Revisão: 14/05/2008, JBM.\n"
     ]
    }
   ],
   "source": [
    "print(df[df[\"observacao\"].apply(lambda x: False if re.search(\"[^\\w]+\" + \"JTJ\" + \"[^\\w]+\", x) is None else True)][\"observacao\"].values[0])\n",
    "print(df[df[\"observacao\"].apply(lambda x: False if re.search(\"[^\\w]+\" + \"RDDT\" + \"[^\\w]+\", x) is None else True)][\"observacao\"].values[0])\n"
   ]
  },
  {
   "cell_type": "code",
   "execution_count": 21,
   "metadata": {},
   "outputs": [],
   "source": [
    "df[\"magazines_count\"] = df['publicacao'].apply(lambda x: sum([0 if re.search(\"\\s+\" + mag + \"[^\\w]+\", x) is None\n",
    "                                                             else 1 for mag in magazines_list]))"
   ]
  },
  {
   "cell_type": "code",
   "execution_count": 27,
   "metadata": {},
   "outputs": [
    {
     "name": "stdout",
     "output_type": "stream",
     "text": [
      "0    96617\n",
      "1     5742\n",
      "2     1322\n",
      "3      276\n",
      "4       55\n",
      "5        6\n",
      "Name: magazines_count, dtype: int64\n"
     ]
    },
    {
     "data": {
      "text/plain": [
       "'DJ 04-08-2006  PP-00078   EMENT VOL-02240-04 PP-00658\\r\\nRTJ VOL-00201-02 PP-00730\\r\\nRB v. 18, n. 515, 2006, p. 36-38\\r\\nLEXSTF v. 28, n. 333, 2006, p. 250-260\\r\\nRDDT n. 133, 2006, p. 176-180\\r\\nRET v. 9, n. 51, 2006, p. 90-97'"
      ]
     },
     "execution_count": 27,
     "metadata": {},
     "output_type": "execute_result"
    }
   ],
   "source": [
    "print(df[\"magazines_count\"].value_counts())\n",
    "\n",
    "df[df[\"magazines_count\"] > 4][\"publicacao\"].values[0]"
   ]
  },
  {
   "cell_type": "code",
   "execution_count": 17,
   "metadata": {},
   "outputs": [
    {
     "data": {
      "text/plain": [
       "'RE 170784'"
      ]
     },
     "execution_count": 17,
     "metadata": {},
     "output_type": "execute_result"
    }
   ],
   "source": [
    "df[df[\"magazines_count\"] > 4][\"acordaoId\"].values[0]"
   ]
  },
  {
   "cell_type": "code",
   "execution_count": 23,
   "metadata": {},
   "outputs": [],
   "source": [
    "df[\"magazines_real_count\"] = df[\"citacoes_revistas\"].apply(lambda x: len(x))"
   ]
  },
  {
   "cell_type": "code",
   "execution_count": 24,
   "metadata": {},
   "outputs": [
    {
     "data": {
      "text/plain": [
       "0    96619\n",
       "1     5740\n",
       "2     1322\n",
       "3      276\n",
       "4       55\n",
       "5        6\n",
       "Name: magazines_real_count, dtype: int64"
      ]
     },
     "execution_count": 24,
     "metadata": {},
     "output_type": "execute_result"
    }
   ],
   "source": [
    "df[\"magazines_real_count\"].value_counts()"
   ]
  },
  {
   "cell_type": "code",
   "execution_count": 30,
   "metadata": {},
   "outputs": [
    {
     "data": {
      "text/html": [
       "<div>\n",
       "<style scoped>\n",
       "    .dataframe tbody tr th:only-of-type {\n",
       "        vertical-align: middle;\n",
       "    }\n",
       "\n",
       "    .dataframe tbody tr th {\n",
       "        vertical-align: top;\n",
       "    }\n",
       "\n",
       "    .dataframe thead th {\n",
       "        text-align: right;\n",
       "    }\n",
       "</style>\n",
       "<table border=\"1\" class=\"dataframe\">\n",
       "  <thead>\n",
       "    <tr style=\"text-align: right;\">\n",
       "      <th></th>\n",
       "      <th>acordaoId</th>\n",
       "      <th>publicacao</th>\n",
       "      <th>citacoes_revistas</th>\n",
       "    </tr>\n",
       "  </thead>\n",
       "  <tbody>\n",
       "    <tr>\n",
       "      <th>1258</th>\n",
       "      <td>ADI 1233</td>\n",
       "      <td>DJ 10-08-2001 PP-00002  EMENT VOL-02038-01 PP-00126\\r\\nRTJ  VOL-00178/03  PP-01078</td>\n",
       "      <td>[]</td>\n",
       "    </tr>\n",
       "    <tr>\n",
       "      <th>1721</th>\n",
       "      <td>QO RE 113682</td>\n",
       "      <td>DJ 11-10-2001 PP-00018  EMENT VOL-02047-02 PP-00418\\r\\nRTJ-00182  T-01  PP-00298</td>\n",
       "      <td>[]</td>\n",
       "    </tr>\n",
       "  </tbody>\n",
       "</table>\n",
       "</div>"
      ],
      "text/plain": [
       "         acordaoId  \\\n",
       "1258      ADI 1233   \n",
       "1721  QO RE 113682   \n",
       "\n",
       "                                                                              publicacao  \\\n",
       "1258  DJ 10-08-2001 PP-00002  EMENT VOL-02038-01 PP-00126\\r\\nRTJ  VOL-00178/03  PP-01078   \n",
       "1721    DJ 11-10-2001 PP-00018  EMENT VOL-02047-02 PP-00418\\r\\nRTJ-00182  T-01  PP-00298   \n",
       "\n",
       "     citacoes_revistas  \n",
       "1258                []  \n",
       "1721                []  "
      ]
     },
     "execution_count": 30,
     "metadata": {},
     "output_type": "execute_result"
    }
   ],
   "source": [
    "df[df[\"magazines_real_count\"] != df[\"magazines_count\"]][[\"acordaoId\", \"publicacao\", \"citacoes_revistas\"]]"
   ]
  },
  {
   "cell_type": "code",
   "execution_count": 39,
   "metadata": {},
   "outputs": [
    {
     "data": {
      "text/plain": [
       "('182', '298')"
      ]
     },
     "execution_count": 39,
     "metadata": {},
     "output_type": "execute_result"
    }
   ],
   "source": [
    "publication = \"DJ 11-10-2001 PP-00018 EMENT VOL-02047-02 PP-00418\\r\\nRTJ VOL-00182-01 PP-00298\"\n",
    "re.search(\n",
    "    \"\\s+\" + \"RTJ\" + \"[^\\w]+.*VOL\\-?\\s*0*(\\d+)\\-?\\d*\\s*PP\\-?0*(\\d+)\",\n",
    "    publication,\n",
    ").groups()\n",
    "# citações deveriam ser: TJ VOL-00178-03 PP-01078\n",
    "#                        RTJ VOL-00182-01 PP-00298"
   ]
  },
  {
   "cell_type": "code",
   "execution_count": 46,
   "metadata": {},
   "outputs": [
    {
     "data": {
      "text/plain": [
       "<_sre.SRE_Match object; span=(0, 6), match='SÚMULA'>"
      ]
     },
     "execution_count": 46,
     "metadata": {},
     "output_type": "execute_result"
    }
   ],
   "source": [
    "# CITAÇÃO DE REVISTA CASA COM O PADRÃO?\n",
    "q = \"SÚMULA 35\"\n",
    "# acordaoId_pattern = \"([^\\d]{2,}[\\s-]+\\d+[^\\d]*)$\"\n",
    "# re.search(acordaoId_pattern, q)\n",
    "re.search(\"[\\w]+\", q)"
   ]
  }
 ],
 "metadata": {
  "kernelspec": {
   "display_name": "Python 3",
   "language": "python",
   "name": "python3"
  },
  "language_info": {
   "codemirror_mode": {
    "name": "ipython",
    "version": 3
   },
   "file_extension": ".py",
   "mimetype": "text/x-python",
   "name": "python",
   "nbconvert_exporter": "python",
   "pygments_lexer": "ipython3",
   "version": "3.6.8"
  }
 },
 "nbformat": 4,
 "nbformat_minor": 2
}
